{
 "cells": [
  {
   "cell_type": "code",
   "execution_count": null,
   "metadata": {},
   "outputs": [],
   "source": [
    "import pickle\n",
    "\n",
    "with open('dial_train.txt', encoding='utf-8') as fin:\n",
    "    lines = fin.readlines()\n",
    "    print(len(lines))\n",
    "    \n",
    "    \n",
    "with open('dial_test.txt', encoding='utf-8') as fin:\n",
    "    lines_test = fin.readlines()\n",
    "    print(len(lines_test))\n"
   ]
  },
  {
   "cell_type": "code",
   "execution_count": null,
   "metadata": {},
   "outputs": [],
   "source": [
    "lines += lines_test\n",
    "print(len(lines))"
   ]
  },
  {
   "cell_type": "code",
   "execution_count": null,
   "metadata": {},
   "outputs": [],
   "source": [
    "\n",
    "\n",
    "w2cnt = dict()\n",
    "\n",
    "for line in lines:\n",
    "    for w in line.strip().lower().split(' '):\n",
    "        if w not in w2cnt:\n",
    "            w2cnt[w] = 1\n",
    "        else:\n",
    "            w2cnt[w] += 1\n",
    "            \n",
    "print(len(w2cnt))"
   ]
  },
  {
   "cell_type": "code",
   "execution_count": null,
   "metadata": {},
   "outputs": [],
   "source": [
    "w2id = dict()\n",
    "\n",
    "cnt = 0\n",
    "for k in w2cnt.keys():\n",
    "    if w2cnt[k] > 10:\n",
    "        w2id[k] = len(w2id)\n",
    "print(len(w2id))\n",
    "\n",
    "cntt = 0\n",
    "for line in lines:\n",
    "    for w in line.strip().lower().split(' '):\n",
    "        if w not in w2id:\n",
    "            cntt +=1\n",
    "            break\n",
    "#print(w2id)\n",
    "\n",
    "print(cntt/len(lines))\n"
   ]
  },
  {
   "cell_type": "code",
   "execution_count": null,
   "metadata": {},
   "outputs": [],
   "source": [
    "app_ = ['<GO>','<UNK>','<PAD>','<EOS>'] + ['<PAD_%d>' %i for i in range(50)]\n",
    "\n",
    "print(app_)\n",
    "\n",
    "for app in app_:\n",
    "    w2id[app] = len(w2id)"
   ]
  },
  {
   "cell_type": "code",
   "execution_count": null,
   "metadata": {},
   "outputs": [],
   "source": [
    "w2id['<COS>'] = len(w2id)\n",
    "\n",
    "id2w = dict(zip(w2id.values(), w2id.keys()))"
   ]
  },
  {
   "cell_type": "code",
   "execution_count": null,
   "metadata": {},
   "outputs": [],
   "source": [
    "index = []\n",
    "for line in lines:\n",
    "    index.append([w2id.get(w, w2id['<UNK>']) for w in line.strip().lower().split(' ')])\n",
    "print(len(index))\n",
    "        \n",
    "    \n",
    "index_2 = []\n",
    "for i in range(len(index)):\n",
    "    if (i*2) >= len(index):\n",
    "        print(i)\n",
    "        break\n",
    "    index_2 += [index[i*2] + [w2id['<COS>']] + index[i*2+1] + [w2id['<EOS>']]]\n",
    "print(len(index_2))\n",
    "\n"
   ]
  },
  {
   "cell_type": "code",
   "execution_count": null,
   "metadata": {},
   "outputs": [],
   "source": [
    "def show(idx):\n",
    "    print(' '.join([id2w[idxx] for idxx in idx]))\n",
    "    \n",
    "for i in range(100):\n",
    "    show(index_2[i])\n"
   ]
  },
  {
   "cell_type": "code",
   "execution_count": null,
   "metadata": {},
   "outputs": [],
   "source": [
    "print(lines[1].strip())"
   ]
  },
  {
   "cell_type": "code",
   "execution_count": null,
   "metadata": {},
   "outputs": [],
   "source": [
    "print(len(index_2))"
   ]
  },
  {
   "cell_type": "code",
   "execution_count": null,
   "metadata": {},
   "outputs": [],
   "source": [
    "cnt = 0\n",
    "for t in index_2:\n",
    "    if -1 in t:\n",
    "        cnt += 1\n",
    "print(cnt)"
   ]
  },
  {
   "cell_type": "code",
   "execution_count": null,
   "metadata": {},
   "outputs": [],
   "source": [
    "print(len(w2id), len(id2w))"
   ]
  },
  {
   "cell_type": "code",
   "execution_count": null,
   "metadata": {},
   "outputs": [],
   "source": [
    "pickle.dump((w2id, id2w), open('w2id_id2w.pkl', 'wb'))"
   ]
  },
  {
   "cell_type": "code",
   "execution_count": null,
   "metadata": {},
   "outputs": [],
   "source": [
    "pickle.dump(index_2, open('index.pkl','wb'))"
   ]
  },
  {
   "cell_type": "code",
   "execution_count": null,
   "metadata": {},
   "outputs": [],
   "source": []
  }
 ],
 "metadata": {
  "kernelspec": {
   "display_name": "Python 3",
   "language": "python",
   "name": "python3"
  },
  "language_info": {
   "codemirror_mode": {
    "name": "ipython",
    "version": 3
   },
   "file_extension": ".py",
   "mimetype": "text/x-python",
   "name": "python",
   "nbconvert_exporter": "python",
   "pygments_lexer": "ipython3",
   "version": "3.5.2"
  },
  "toc": {
   "base_numbering": 1,
   "nav_menu": {},
   "number_sections": true,
   "sideBar": true,
   "skip_h1_title": false,
   "title_cell": "Table of Contents",
   "title_sidebar": "Contents",
   "toc_cell": false,
   "toc_position": {},
   "toc_section_display": true,
   "toc_window_display": false
  }
 },
 "nbformat": 4,
 "nbformat_minor": 2
}
