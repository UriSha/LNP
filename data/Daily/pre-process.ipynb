{
 "cells": [
  {
   "cell_type": "code",
   "execution_count": 96,
   "metadata": {},
   "outputs": [
    {
     "name": "stdout",
     "output_type": "stream",
     "text": [
      "152104\n",
      "13480\n",
      "999995\n"
     ]
    }
   ],
   "source": [
    "import pickle\n",
    "\n",
    "with open('dial_train.txt', encoding='utf-8') as fin:\n",
    "    lines = fin.readlines()\n",
    "    print(len(lines))\n",
    "    \n",
    "    \n",
    "with open('dial_test.txt', encoding='utf-8') as fin:\n",
    "    lines_test = fin.readlines()\n",
    "    print(len(lines_test))\n",
    "    \n",
    "    \n",
    "# with open('../embeddings/google.txt', encoding='utf-8') as fin:\n",
    "#     lines_embeddings = fin.readlines()\n",
    "#     print(len(lines_embeddings))\n",
    "    \n",
    "with open('../embeddings/wiki-news-300d-1M.vec', encoding='utf-8') as fin:\n",
    "    lines_embeddings = fin.readlines()\n",
    "    print(len(lines_embeddings))\n"
   ]
  },
  {
   "cell_type": "code",
   "execution_count": 97,
   "metadata": {},
   "outputs": [],
   "source": [
    "word_with_embeddings_vector = set([lines_embeddings[i].split(' ')[0] for i in range(1,len(lines_embeddings))])"
   ]
  },
  {
   "cell_type": "code",
   "execution_count": 98,
   "metadata": {},
   "outputs": [
    {
     "name": "stdout",
     "output_type": "stream",
     "text": [
      "999994\n"
     ]
    }
   ],
   "source": [
    "print(len(word_with_embeddings_vector))"
   ]
  },
  {
   "cell_type": "code",
   "execution_count": 114,
   "metadata": {},
   "outputs": [
    {
     "data": {
      "text/plain": [
       "'fvfvfgff'"
      ]
     },
     "execution_count": 114,
     "metadata": {},
     "output_type": "execute_result"
    }
   ],
   "source": [
    "r = \"fvfv'fg'ff\"\n",
    "r.replace(\"'\",\"\")"
   ]
  },
  {
   "cell_type": "code",
   "execution_count": 99,
   "metadata": {},
   "outputs": [
    {
     "name": "stdout",
     "output_type": "stream",
     "text": [
      "165584\n"
     ]
    }
   ],
   "source": [
    "lines += lines_test\n",
    "print(len(lines))"
   ]
  },
  {
   "cell_type": "code",
   "execution_count": 140,
   "metadata": {},
   "outputs": [
    {
     "name": "stdout",
     "output_type": "stream",
     "text": [
      "22851\n",
      "22632\n"
     ]
    }
   ],
   "source": [
    "\n",
    "def get_w2cnt(func=None):\n",
    "    w2cnt = dict()\n",
    "\n",
    "    for line in lines:\n",
    "        for w in line.strip().lower().split(' '):\n",
    "            if func:\n",
    "                w = func(w)\n",
    "            if w not in w2cnt:\n",
    "                w2cnt[w] = 1\n",
    "            else:\n",
    "                w2cnt[w] += 1\n",
    "\n",
    "    print(len(w2cnt))\n",
    "    return w2cnt\n",
    "\n",
    "def remove_chupchik(w):\n",
    "    return w.replace(\"'\",\"\")\n",
    "\n",
    "w2cnt_original = get_w2cnt()\n",
    "w2cnt_replaced = get_w2cnt(remove_chupchik)\n",
    "\n"
   ]
  },
  {
   "cell_type": "code",
   "execution_count": 141,
   "metadata": {},
   "outputs": [
    {
     "name": "stdout",
     "output_type": "stream",
     "text": [
      "6381\n",
      "0.2303362643733694\n",
      "6375\n",
      "0.2282346120398106\n"
     ]
    }
   ],
   "source": [
    "def get_w2id(w2cnt, func=None):\n",
    "    w2id = dict()\n",
    "\n",
    "    cnt = 0\n",
    "    for k in w2cnt.keys():\n",
    "        if w2cnt[k] > 10:\n",
    "            w2id[k] = len(w2id)\n",
    "    print(len(w2id))\n",
    "\n",
    "    cntt = 0\n",
    "    for line in lines:\n",
    "        for w in line.strip().lower().split(' '):\n",
    "            if func:\n",
    "                w = func(w)\n",
    "            if w not in w2id:\n",
    "                cntt +=1\n",
    "                break\n",
    "    #print(w2id)\n",
    "\n",
    "    print(cntt/len(lines))\n",
    "    return w2id\n",
    "\n",
    "w2id_original = get_w2id(w2cnt_original)\n",
    "w2id_replaced = get_w2id(w2cnt_replaced,remove_chupchik)\n",
    "\n",
    "\n",
    "\n",
    "\n"
   ]
  },
  {
   "cell_type": "code",
   "execution_count": 139,
   "metadata": {},
   "outputs": [
    {
     "name": "stdout",
     "output_type": "stream",
     "text": [
      "107\n"
     ]
    }
   ],
   "source": [
    "original_words = set(w2id_original.keys())\n",
    "replaced_words = set(w2id_replaced.keys())\n",
    "\n",
    "\n",
    "l = [w for w in original_words if w not in replaced_words]\n",
    "print(len(l))"
   ]
  },
  {
   "cell_type": "code",
   "execution_count": 102,
   "metadata": {},
   "outputs": [
    {
     "name": "stdout",
     "output_type": "stream",
     "text": [
      "156\n"
     ]
    }
   ],
   "source": [
    "w_without_embeddings = []\n",
    "\n",
    "for w in w2id:\n",
    "    if w not in word_with_embeddings_vector:\n",
    "        w_without_embeddings.append(w)\n",
    "        \n",
    "print(len(w_without_embeddings))"
   ]
  },
  {
   "cell_type": "code",
   "execution_count": 112,
   "metadata": {},
   "outputs": [
    {
     "name": "stdout",
     "output_type": "stream",
     "text": [
      "[\"don't\", 'right.but', \"that's\", \"it's\", \"what's\", \"she's\", \"there's\", \"can't\", \"you're\", \"wasn't\", \"she'd\", \"i'll\", \"they're\", \"you'll\", 'stars.com', \"it'll\", \"we'll\", \"won't\", \"i'm\", \"i've\", \"haven't\", \"cann't\", 'you.what', \"didn't\", \"you'd\", \"you've\", \"isn't\", \"wouldn't\", \"let's\", 'him.he', \"we're\", \"he'd\", \"c'mon\", \"couldn't\", \"doesn't\", \"he's\", \"we'd\", \"i'd\", \"week's\", \"china's\", \"who's\", \"aren't\", '6:00', '8:', \"it'd\", 'you.but', \"mother's\", \"shouldn't\", \"everyone's\", \"here's\", \"name's\", \"o'clock\", \"mom's\", \"hasn't\", 'it.but', \"today's\", '7:30', \"when's\", '6:30', \"children's\", \"where's\", '5:30', \"we've\", \"company's\", \"teacher's\", 'disneyworld', \"he'll\", \"hadn't\", \"driver's\", \"weren't\", 'femi', 'yi-jun', 'you.you', \"she'll\", \"master's\", \"they'll\", \"people's\", \"how's\", '11:30', \"bill's\", \"wife's\", 'webtracker', \"they've\", \"there're\", 'it.you', '10:00', \"john's\", \"father's\", '11:00', \"that'll\", '7:00', \"valentine's\", \"mcdonald's\", \"that'd\", 'you.how', \"what're\", 'dalian', \"doctor's\", \"one's\", \"bachelor's\", 'right.we', \"lt's\", 'mr.smith', \"year's\", 'yes.we', 'yes.it', \"someone's\", \"i'ii\", \"mustn't\", \"mary's\", \"friend's\", \"nobody's\", 'magadize', \"everything's\", \"daughter's\", \"son's\", 'is.it', \"ma'am\", \"husband's\", '9:00', 'tianjin', \"there'll\", '1:30', '::', \"needn't\", \"world's\", \"should've\", \"car's\", 'wangfujing', \"kitty's\", '2:30', '9:30', 'suzhou', \"ann's\", \"men's\", '12:00', \"else's\", \"they'd\", 'qingdao', \"month's\", \"traveler's\", \"macy's\", 'mr.li', 'gramercy', \"traveller's\", 'perrier', 'altadena', '2:00', 'nanchang', 'mr.chen', \"buyer's\", '10:30', 'mcneal', \"must've\", '626-555-1739', 'kristy']\n",
      "True\n"
     ]
    }
   ],
   "source": [
    "print(w_without_embeddings)\n",
    "print(\"its\" in word_with_embeddings_vector)"
   ]
  },
  {
   "cell_type": "code",
   "execution_count": 109,
   "metadata": {},
   "outputs": [
    {
     "data": {
      "text/plain": [
       "True"
      ]
     },
     "execution_count": 109,
     "metadata": {},
     "output_type": "execute_result"
    }
   ],
   "source": [
    "\"wasnt\" in word_with_embeddings_vector"
   ]
  },
  {
   "cell_type": "code",
   "execution_count": 32,
   "metadata": {},
   "outputs": [
    {
     "name": "stdout",
     "output_type": "stream",
     "text": [
      "['<GO>', '<UNK>', '<PAD>', '<EOS>', '<PAD_0>', '<PAD_1>', '<PAD_2>', '<PAD_3>', '<PAD_4>', '<PAD_5>', '<PAD_6>', '<PAD_7>', '<PAD_8>', '<PAD_9>', '<PAD_10>', '<PAD_11>', '<PAD_12>', '<PAD_13>', '<PAD_14>', '<PAD_15>', '<PAD_16>', '<PAD_17>', '<PAD_18>', '<PAD_19>', '<PAD_20>', '<PAD_21>', '<PAD_22>', '<PAD_23>', '<PAD_24>', '<PAD_25>', '<PAD_26>', '<PAD_27>', '<PAD_28>', '<PAD_29>', '<PAD_30>', '<PAD_31>', '<PAD_32>', '<PAD_33>', '<PAD_34>', '<PAD_35>', '<PAD_36>', '<PAD_37>', '<PAD_38>', '<PAD_39>', '<PAD_40>', '<PAD_41>', '<PAD_42>', '<PAD_43>', '<PAD_44>', '<PAD_45>', '<PAD_46>', '<PAD_47>', '<PAD_48>', '<PAD_49>']\n"
     ]
    }
   ],
   "source": [
    "app_ = ['<GO>','<UNK>','<PAD>','<EOS>'] + ['<PAD_%d>' %i for i in range(50)]\n",
    "\n",
    "print(app_)\n",
    "\n",
    "for app in app_:\n",
    "    w2id[app] = len(w2id)"
   ]
  },
  {
   "cell_type": "code",
   "execution_count": 33,
   "metadata": {},
   "outputs": [],
   "source": [
    "w2id['<COS>'] = len(w2id)\n",
    "\n",
    "id2w = dict(zip(w2id.values(), w2id.keys()))"
   ]
  },
  {
   "cell_type": "code",
   "execution_count": 34,
   "metadata": {},
   "outputs": [
    {
     "name": "stdout",
     "output_type": "stream",
     "text": [
      "165584\n",
      "[0, 1, 2, 1, 3, 4, 5, 6, 7, 8, 9, 10, 11, 12]\n",
      "[13, 14, 15, 16, 17, 18, 16, 19, 20, 21, 6, 22, 23, 24]\n",
      "82792\n",
      "82792\n",
      "[0, 1, 2, 1, 3, 4, 5, 6, 7, 8, 9, 10, 11, 12, 6435, 13, 14, 15, 16, 17, 18, 16, 19, 20, 21, 6, 22, 23, 24, 6384]\n"
     ]
    }
   ],
   "source": [
    "index = []\n",
    "for line in lines:\n",
    "    index.append([w2id.get(w, w2id['<UNK>']) for w in line.strip().lower().split(' ')])\n",
    "print(len(index))\n",
    "print(index[0])   \n",
    "print(index[1])\n",
    "    \n",
    "index_2 = []\n",
    "for i in range(len(index)):\n",
    "    if (i*2) >= len(index):\n",
    "        print(i)\n",
    "        break\n",
    "    index_2 += [index[i*2] + [w2id['<COS>']] + index[i*2+1] + [w2id['<EOS>']]]\n",
    "print(len(index_2))\n",
    "print(index_2[0])\n",
    "\n"
   ]
  },
  {
   "cell_type": "code",
   "execution_count": 35,
   "metadata": {},
   "outputs": [
    {
     "name": "stdout",
     "output_type": "stream",
     "text": [
      "say , jim , how about going for a few beers after dinner ? <COS> you know that is tempting but is really not good for our fitness . <EOS>\n",
      "you know that is tempting but is really not good for our fitness . <COS> what do you mean ? it will help us to relax . <EOS>\n",
      "what do you mean ? it will help us to relax . <COS> do you really think so ? i don't . it will just make us fat and act silly . remember last time ? <EOS>\n",
      "do you really think so ? i don't . it will just make us fat and act silly . remember last time ? <COS> i guess you are right.but what shall we do ? i don't feel like sitting at home . <EOS>\n",
      "i guess you are right.but what shall we do ? i don't feel like sitting at home . <COS> i suggest a walk over to the gym where we can play singsong and meet some of our friends . <EOS>\n",
      "i suggest a walk over to the gym where we can play singsong and meet some of our friends . <COS> that's a good idea . i hear mary and sally often go there to play <UNK> we can make a <UNK> with them . <EOS>\n",
      "that's a good idea . i hear mary and sally often go there to play <UNK> we can make a <UNK> with them . <COS> sounds great to me ! if they are willing , we could ask them to go dancing with <UNK> is excellent exercise and fun , too . <EOS>\n",
      "sounds great to me ! if they are willing , we could ask them to go dancing with <UNK> is excellent exercise and fun , too . <COS> <UNK> ' s go now . <EOS>\n",
      "<UNK> ' s go now . <COS> all right . <EOS>\n",
      "can you do push-ups ? <COS> of course i can . it's a piece of cake ! believe it or not , i can do 30 push-ups a minute . <EOS>\n",
      "of course i can . it's a piece of cake ! believe it or not , i can do 30 push-ups a minute . <COS> really ? i think that's impossible ! <EOS>\n",
      "really ? i think that's impossible ! <COS> you mean 30 push-ups ? <EOS>\n",
      "you mean 30 push-ups ? <COS> yeah ! <EOS>\n",
      "yeah ! <COS> it's easy . if you do exercise everyday , you can make it , too . <EOS>\n",
      "can you study with the radio on ? <COS> no , i listen to background music . <EOS>\n",
      "no , i listen to background music . <COS> what is the difference ? <EOS>\n",
      "what is the difference ? <COS> the radio has too many <UNK> . <EOS>\n",
      "the radio has too many <UNK> . <COS> that's true , but then you have to buy a record player . <EOS>\n",
      "are you all right ? <COS> i will be all right soon . i was terrified when i watched them fall from the wire . <EOS>\n",
      "i will be all right soon . i was terrified when i watched them fall from the wire . <COS> don't <UNK> is an <UNK> 。 <EOS>\n",
      "don't <UNK> is an <UNK> 。 <COS> i see . <EOS>\n",
      "hey john , nice <UNK> . are they new ? <COS> yeah , i just got them . i started playing ice hockey in a community league . so , i finally got myself new <UNK> . <EOS>\n",
      "yeah , i just got them . i started playing ice hockey in a community league . so , i finally got myself new <UNK> . <COS> what position do you play ? <EOS>\n",
      "what position do you play ? <COS> i ’ m a <UNK> . it ’ s a lot of fun . you don ’ t have to be able to <UNK> as fast on defense . <EOS>\n",
      "i ’ m a <UNK> . it ’ s a lot of fun . you don ’ t have to be able to <UNK> as fast on defense . <COS> yeah , you ’ re a pretty big guy . i play <UNK> , myself . <EOS>\n",
      "yeah , you ’ re a pretty big guy . i play <UNK> , myself . <COS> oh , yeah ? which team ? <EOS>\n",
      "oh , yeah ? which team ? <COS> the <UNK> . <EOS>\n",
      "the <UNK> . <COS> really ? i think we play you guys next week . well , i have to go to practice . see you later . <EOS>\n",
      "really ? i think we play you guys next week . well , i have to go to practice . see you later . <COS> all right , see you later . <EOS>\n",
      "hey <UNK> , what are you reading ? <COS> i ’ m looking at my horoscope for this month ! my outlook is very positive . it says that i should take a vacation to <UNK> exotic , and that i will have a passionate summer <UNK> ! <EOS>\n",
      "i ’ m looking at my horoscope for this month ! my outlook is very positive . it says that i should take a vacation to <UNK> exotic , and that i will have a passionate summer <UNK> ! <COS> what are you talking about ? let me see that ... what are <UNK> ? <EOS>\n",
      "what are you talking about ? let me see that ... what are <UNK> ? <COS> it ’ s a <UNK> of your month , based on your zodiac sign . you have a different sign for the month and date you were born in . i was born on april 15th , so i ’ m an <UNK> . when were you born ? <EOS>\n",
      "it ’ s a <UNK> of your month , based on your zodiac sign . you have a different sign for the month and date you were born in . i was born on april 15th , so i ’ m an <UNK> . when were you born ? <COS> january 5th . <EOS>\n",
      "january 5th . <COS> let ’ s see . . . you ’ re a <UNK> . it says that you will be feeling stress at work , but you could see new , exciting developments in your love life . looks like we ’ ll both have interesting summers ! <EOS>\n",
      "let ’ s see . . . you ’ re a <UNK> . it says that you will be feeling stress at work , but you could see new , exciting developments in your love life . looks like we ’ ll both have interesting summers ! <COS> that ’ s <UNK> . i don't feel any stress at work , and my love life is practically <UNK> . this zodiac stuff is all a bunch of nonsense . <EOS>\n",
      "that ’ s <UNK> . i don't feel any stress at work , and my love life is practically <UNK> . this zodiac stuff is all a bunch of nonsense . <COS> no , it ’ s not , your <UNK> sign can tell you a lot about your personality . see ? it says that an <UNK> is energetic and loves to <UNK> . <EOS>\n",
      "no , it ’ s not , your <UNK> sign can tell you a lot about your personality . see ? it says that an <UNK> is energetic and loves to <UNK> . <COS> well , you certainly match those criteria , but they ’ re so broad they could apply to anyone . what does it say about me ? <EOS>\n",
      "well , you certainly match those criteria , but they ’ re so broad they could apply to anyone . what does it say about me ? <COS> a <UNK> is <UNK> and practical . she likes to do things in <UNK> ways . that sounds just like you ! <EOS>\n",
      "frank ’ s getting married , do you believe this ? <COS> is he really ? <EOS>\n",
      "is he really ? <COS> yes , he is . he loves the girl very much . <EOS>\n",
      "yes , he is . he loves the girl very much . <COS> who is he <UNK> ? <EOS>\n",
      "who is he <UNK> ? <COS> a girl he met on holiday in spain , i think . <EOS>\n",
      "a girl he met on holiday in spain , i think . <COS> have they set a date for the wedding ? <EOS>\n",
      "have they set a date for the wedding ? <COS> not yet . <EOS>\n",
      "i hear you bought a new house in the northern suburbs . <COS> that ’ s right , we bought it the same day we came on the market . <EOS>\n",
      "that ’ s right , we bought it the same day we came on the market . <COS> what kind of house is it ? <EOS>\n",
      "what kind of house is it ? <COS> it ’ s a wonderful spanish style . <EOS>\n",
      "it ’ s a wonderful spanish style . <COS> oh , i love the roof tiles on spanish style houses . <EOS>\n",
      "oh , i love the roof tiles on spanish style houses . <COS> and it ’ s a bargaining . a house like this in river side costs double the price . <EOS>\n",
      "and it ’ s a bargaining . a house like this in river side costs double the price . <COS> great , is it a two bedroom house ? <EOS>\n",
      "great , is it a two bedroom house ? <COS> no , it has three bedrooms and three beds , and has a living room with a <UNK> ceiling . there ’ s a <UNK> garage . <EOS>\n",
      "no , it has three bedrooms and three beds , and has a living room with a <UNK> ceiling . there ’ s a <UNK> garage . <COS> that ’ s a nice area too . it ’ ll be a good investment for you . <EOS>\n",
      "that ’ s a nice area too . it ’ ll be a good investment for you . <COS> <UNK> , when will you buy a house ? <EOS>\n",
      "<UNK> , when will you buy a house ? <COS> not <UNK> the end of this year , you know , just before my wedding . <EOS>\n",
      "not <UNK> the end of this year , you know , just before my wedding . <COS> right , congratulations . <EOS>\n",
      "right , congratulations . <COS> thank you . <EOS>\n",
      "hi , becky , what's up ? <COS> not much , except that my mother-in-law is driving me up the wall . <EOS>\n",
      "not much , except that my mother-in-law is driving me up the wall . <COS> what's the problem ? <EOS>\n",
      "what's the problem ? <COS> she loves to <UNK> and criticizes everything that i do . i can never do anything right when she's around . <EOS>\n",
      "she loves to <UNK> and criticizes everything that i do . i can never do anything right when she's around . <COS> for example ? <EOS>\n",
      "for example ? <COS> well , last week i invited her over to dinner . my husband and i had no problem with the food , but if you listened to her , then it would seem like i fed her old meat and rotten vegetables . there's just nothing can please her . <EOS>\n",
      "well , last week i invited her over to dinner . my husband and i had no problem with the food , but if you listened to her , then it would seem like i fed her old meat and rotten vegetables . there's just nothing can please her . <COS> no , i can't see that happening . i know you're a good cook and nothing like that would ever happen . <EOS>\n",
      "no , i can't see that happening . i know you're a good cook and nothing like that would ever happen . <COS> it's not just that . she also criticizes how we raise the kids . <EOS>\n",
      "it's not just that . she also criticizes how we raise the kids . <COS> my mother-in-law used to do the same thing to us . if it wasn't <UNK> them enough , then we were <UNK> them too much . she also complained about the food we fed them , the schools we sent them too , and everything else under the sun . <EOS>\n",
      "my mother-in-law used to do the same thing to us . if it wasn't <UNK> them enough , then we were <UNK> them too much . she also complained about the food we fed them , the schools we sent them too , and everything else under the sun . <COS> you said she used to ? how did you stop her ? <EOS>\n",
      "you said she used to ? how did you stop her ? <COS> we basically sat her down and told her how we felt about her constant <UNK> , and how we <UNK> her advice but hoped she'd let us do our things . she understood , and now everything is a lot more peaceful . <EOS>\n",
      "we basically sat her down and told her how we felt about her constant <UNK> , and how we <UNK> her advice but hoped she'd let us do our things . she understood , and now everything is a lot more peaceful . <COS> that sounds like a good idea . i'll have to try that . <EOS>\n",
      "how are <UNK> new programmers working out ? <COS> i hate to admit it , but they're good . and fast . the <UNK> kid is a genius . <EOS>\n",
      "i hate to admit it , but they're good . and fast . the <UNK> kid is a genius . <COS> so you'll make the stars.com deadline , and have us up and running next week ? <EOS>\n",
      "so you'll make the stars.com deadline , and have us up and running next week ? <COS> it'll be close , but we'll make it . <EOS>\n",
      "it'll be close , but we'll make it . <COS> good . after stars.com starts paying us , we won't need <UNK> cash anymore . <EOS>\n",
      "good . after stars.com starts paying us , we won't need <UNK> cash anymore . <COS> and if we don't need them , we won't need zina , either . <EOS>\n",
      "do you like cooking ? <COS> yes . i like cooking very much . i got this hobby when i was 12 years sold . <EOS>\n",
      "yes . i like cooking very much . i got this hobby when i was 12 years sold . <COS> why do you like it ? <EOS>\n",
      "why do you like it ? <COS> i have no idea . i like cooking by myself . i like to taste delicious food . <EOS>\n",
      "i have no idea . i like cooking by myself . i like to taste delicious food . <COS> that's wonderful ! <EOS>\n",
      "that's wonderful ! <COS> and i love trying new recipes , which i usually test with my friends . you can come , too . <EOS>\n",
      "and i love trying new recipes , which i usually test with my friends . you can come , too . <COS> really ? i hope i can have a chance to taste it . don't forget to tell me . <EOS>\n",
      "really ? i hope i can have a chance to taste it . don't forget to tell me . <COS> certainly . <EOS>\n",
      "anyone home ? jen ! <COS> i'm in the kitchen ... let yourself in ! <EOS>\n",
      "i'm in the kitchen ... let yourself in ! <COS> wow ! you're really working up a storm ! <EOS>\n",
      "wow ! you're really working up a storm ! <COS> i know . i've even worked up a sweat . <EOS>\n",
      "i know . i've even worked up a sweat . <COS> you look like a cooking show <UNK> <UNK> . <EOS>\n",
      "you look so tan and healthy ! <COS> thanks . i just got back from summer camp . <EOS>\n",
      "thanks . i just got back from summer camp . <COS> how was it ? <EOS>\n",
      "how was it ? <COS> great . i got to try so many things for the first time . <EOS>\n",
      "great . i got to try so many things for the first time . <COS> like what ? <EOS>\n",
      "like what ? <COS> i went sailing , fishing , and <UNK> riding . <EOS>\n",
      "i went sailing , fishing , and <UNK> riding . <COS> i ’ m so jealous . <EOS>\n",
      "i ’ m so jealous . <COS> the <UNK> were so nice too . it was the best summer ever . except for all those <UNK> ! <EOS>\n",
      "diana , do you like the perfume i gave you ? <COS> it ’ s good . but to tell you the truth , i don ’ t wear perfume . <EOS>\n",
      "it ’ s good . but to tell you the truth , i don ’ t wear perfume . <COS> i ’ m sorry . i didn ’ t know that . <EOS>\n",
      "i ’ m sorry . i didn ’ t know that . <COS> that ’ s all right . thank you all the same . <EOS>\n",
      "ah , ah , ah ... <COS> all right , <UNK> ' s your daily exercise schedule . you are to jog before breakfast . <EOS>\n",
      "all right , <UNK> ' s your daily exercise schedule . you are to jog before breakfast . <COS> jog ? <EOS>\n",
      "jog ? <COS> then , you are to walk to work . <EOS>\n",
      "then , you are to walk to work . <COS> walk ? <EOS>\n",
      "walk ? <COS> thirty minutes in gym at lunch time . <EOS>\n",
      "thirty minutes in gym at lunch time . <COS> oh no . <EOS>\n",
      "oh no . <COS> use the stairs , never the elevator . <EOS>\n"
     ]
    }
   ],
   "source": [
    "def show(idx):\n",
    "    print(' '.join([id2w[idxx] for idxx in idx]))\n",
    "    \n",
    "for i in range(100):\n",
    "    show(index_2[i])\n"
   ]
  },
  {
   "cell_type": "code",
   "execution_count": 36,
   "metadata": {},
   "outputs": [
    {
     "name": "stdout",
     "output_type": "stream",
     "text": [
      "You know that is tempting but is really not good for our fitness .\n"
     ]
    }
   ],
   "source": [
    "print(lines[1].strip())"
   ]
  },
  {
   "cell_type": "code",
   "execution_count": 37,
   "metadata": {},
   "outputs": [
    {
     "name": "stdout",
     "output_type": "stream",
     "text": [
      "82792\n"
     ]
    }
   ],
   "source": [
    "print(len(index_2))"
   ]
  },
  {
   "cell_type": "code",
   "execution_count": 38,
   "metadata": {},
   "outputs": [
    {
     "name": "stdout",
     "output_type": "stream",
     "text": [
      "0\n"
     ]
    }
   ],
   "source": [
    "cnt = 0\n",
    "for t in index_2:\n",
    "    if -1 in t:\n",
    "        cnt += 1\n",
    "print(cnt)"
   ]
  },
  {
   "cell_type": "code",
   "execution_count": 39,
   "metadata": {},
   "outputs": [
    {
     "name": "stdout",
     "output_type": "stream",
     "text": [
      "6436 6436\n"
     ]
    }
   ],
   "source": [
    "print(len(w2id), len(id2w))"
   ]
  },
  {
   "cell_type": "code",
   "execution_count": 13,
   "metadata": {},
   "outputs": [],
   "source": [
    "pickle.dump((w2id, id2w), open('w2id_id2w.pkl', 'wb'))"
   ]
  },
  {
   "cell_type": "code",
   "execution_count": 14,
   "metadata": {},
   "outputs": [],
   "source": [
    "pickle.dump(index_2, open('index.pkl','wb'))"
   ]
  },
  {
   "cell_type": "code",
   "execution_count": null,
   "metadata": {},
   "outputs": [],
   "source": []
  }
 ],
 "metadata": {
  "kernelspec": {
   "display_name": "Python 3",
   "language": "python",
   "name": "python3"
  },
  "language_info": {
   "codemirror_mode": {
    "name": "ipython",
    "version": 3
   },
   "file_extension": ".py",
   "mimetype": "text/x-python",
   "name": "python",
   "nbconvert_exporter": "python",
   "pygments_lexer": "ipython3",
   "version": "3.6.4"
  },
  "toc": {
   "base_numbering": 1,
   "nav_menu": {},
   "number_sections": true,
   "sideBar": true,
   "skip_h1_title": false,
   "title_cell": "Table of Contents",
   "title_sidebar": "Contents",
   "toc_cell": false,
   "toc_position": {},
   "toc_section_display": true,
   "toc_window_display": false
  }
 },
 "nbformat": 4,
 "nbformat_minor": 2
}
